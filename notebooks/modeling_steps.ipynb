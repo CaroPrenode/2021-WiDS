{
 "cells": [
  {
   "cell_type": "markdown",
   "id": "honest-springer",
   "metadata": {},
   "source": [
    "# Approach\n",
    "\n",
    "Notes:\n",
    "WHO Diabetes Fact Sheet\n",
    "* Diabetes is a chronic disease that occurs either when the pancreas **does not produce enough insulin or when the body cannot effectively use the insulin it produces**. Insulin is a hormone that regulates blood sugar. **Hyperglycaemia, or raised blood sugar**, is a common effect of uncontrolled diabetes and over time leads to serious damage to many of the body's systems, especially the nerves and blood vessels. \n",
    "* There are two types of diabetes - Type 1 diabetes and Type 2 diabetes. Type 2 diabetes is more common than Type 1 diabetes and often results from excess body weight and physical inactivity while Type 1 diabetes is independent on body size. Additionally, there is Gestational diabetes in which a woman without diabetes develops high blood sugar levels during pregnancy. The latter usually resolves after birth while the other two types of diabetes have to be treated in the longterm.\n",
    "* Around 8.5 % of the adult population is diagnosed with Diabetes independent of the gender.\n",
    "* Diabetes mellitus is characterized by high blood sugar levels over a prolonged period of time and is diagnosed by demonstrating any one of the following:\n",
    "        * Fasting plasma glucose level ≥ 7.0 mmol/L (126 mg/dL)\n",
    "        * Plasma glucose ≥ 11.1 mmol/L (200 mg/dL) two hours after a 75 gram oral glucose load as in a glucose tolerance test\n",
    "        * Symptoms of high blood sugar and casual plasma glucose ≥ 11.1 mmol/L (200 mg/dL)\n",
    "        * Glycated hemoglobin (HbA1C) ≥ 48 mmol/mol (≥ 6.5 DCCT %)\n",
    "        \n",
    "Commonly know risk factors/comorbidities to develop diabetes\n",
    "\n",
    "\n",
    "# Data cleaning and preparation (possible steps, to be verified what is really needed)\n",
    "\n",
    "### Exploratory Data Analysis (EDA)\n",
    "- Target correlates to BMI\n",
    "- Glucose related features are one of the most important features for diabetes detection\n",
    "- Target has minor correlation to blood pressure category (could indicate level of fitness)\n",
    "- Check if target is unbalanced\n",
    "\n",
    "### Data Cleaning\n",
    "- Drop identifiers (encounter_id, hospital_id, icu_id)\n",
    "- ~Drop measurements taken in the first hour (h1...min/max) because high ratio of missing values and redundant with d1_...min/max columns~\n",
    "- ~Drop duplicates in blood pressure columns (invasive/noninvasive)~\n",
    "- Drop readmission status (readmission_status) because only one unique value\n",
    "- Drop 30 rows in training data with implausible age (0)\n",
    "- ~Drop paco2_for_ph_apache because it is identical to paco2_apache identical.~\n",
    "\n",
    "### Handling Missing Values\n",
    "- Merge ...apache to d1_...max and then drop ...apache column for albumin, bilirubin , bun, creatinine, glucose, hematocrit, sodium, wbc, and heart_rate\n",
    "- Weight and height filled with mean for gender\n",
    "- ~Fill the missing values of the Oxygenation index d1_pao2fio2ratio_max with pao2_apache/fio2_apache.~\n",
    "- Fill the missing values for gender with 'Unknown'\n",
    "- Fill the missing values for ethnicity with the already available value 'Other/Unknown'.\n",
    "- Use MICE to replace missing values in numerical columns\n",
    "- Use SingleImputer to replace missing values in categorical variables, strategy \"most frequent\"\n",
    "\n",
    "\n",
    "### Check Correlations to avoid multicollinearity\n",
    "- Remove columns where missing values are more than 80% of the entire column, columns that have low correlation with target variable.\n",
    "- Remove columns that are visible correlated with other ones to avoid multicollinearity.\n",
    "- Drop BMI column because it can be derived from weight and height, I want to avoid multicollinearity\n",
    "\n",
    "### Feature Engineering\n",
    "- BMI Categories (underweight, healthy weight, overweight, obese)\n",
    "- ~Range and Mean from d1 ... min/max~\n",
    "- ~Blood pressure categories from systolic and diastolic blood pressure~\n",
    "- One Hot Encode Categorical columns\n",
    "- Groups of tests that were taken\n",
    "- Note that h1 measurements were present, but not value\n",
    "- BMI AND ethnicity\n",
    "- hospital_admit_source, icu_admit_source: emergency yes or no \n",
    "- difference in glucose max d1, h1\n",
    "- scores from mdscore\n",
    "- has high risk diabetes comorbidity\n",
    "- glucose & hemaglobin\n",
    "- label wann werte fehlen\n",
    "- bmi klassifizierung\n",
    "- labs + vitals: range, mean\n",
    "- blutdruck\n",
    "- glascoma score\n",
    "- falsche labwerte\n",
    "- Einheiten alle gleich? \n",
    "\n",
    "### Outlier removal\n",
    "\n",
    "### Apply all preprocessing steps for unlabeled data\n",
    "- Align dataset df with unlabel test data to make sure they have the same columns.\n",
    "- distributions train test\n",
    "\n",
    "\n",
    "# Modeling\n",
    "- train test split\n",
    "- Performing Random Undersampling and then Oversampling to rebalance the dataset\n",
    "- Performing Random Undersampling and then Oversampling to rebalance the dataset\n",
    "- try different models, use cross validation\n",
    "- make pipeline to compare parameters and use Gridsearch\n",
    "- Try: Random Forest, LGBM, xgboost, deep learning \n",
    "- Feature selection \n",
    "- Build an ensemble\n",
    "\n",
    "\n",
    "Step 1) build pipeline for testing\n",
    "\n",
    "Step 2) feature engineering & co\n"
   ]
  },
  {
   "cell_type": "markdown",
   "id": "interesting-square",
   "metadata": {},
   "source": [
    "# Import libraries"
   ]
  },
  {
   "cell_type": "code",
   "execution_count": 1,
   "id": "minus-fifteen",
   "metadata": {},
   "outputs": [],
   "source": [
    "import numpy as np # linear algebra\n",
    "import pandas as pd # data processing, CSV file I/O (e.g. pd.read_csv)"
   ]
  },
  {
   "cell_type": "markdown",
   "id": "noble-profile",
   "metadata": {},
   "source": [
    "# Import data"
   ]
  },
  {
   "cell_type": "code",
   "execution_count": 3,
   "id": "general-research",
   "metadata": {},
   "outputs": [],
   "source": [
    "# non-processed data\n",
    "train = pd.read_csv('/kaggle/input/widsdatathon2021/TrainingWiDS2021.csv')\n",
    "test = pd.read_csv('/kaggle/input/widsdatathon2021/UnlabeledWiDS2021.csv')\n",
    "dictionary = pd.read_csv('/kaggle/input/widsdatathon2021/DataDictionaryWiDS2021.csv')\n",
    "data_types = dictionary[['Category', 'Variable Name','Data Type']].set_index('Variable Name')\n",
    "data_types.head()"
   ]
  },
  {
   "cell_type": "code",
   "execution_count": null,
   "id": "experienced-collective",
   "metadata": {},
   "outputs": [],
   "source": []
  }
 ],
 "metadata": {
  "kernelspec": {
   "display_name": "Python 3",
   "language": "python",
   "name": "python3"
  },
  "language_info": {
   "codemirror_mode": {
    "name": "ipython",
    "version": 3
   },
   "file_extension": ".py",
   "mimetype": "text/x-python",
   "name": "python",
   "nbconvert_exporter": "python",
   "pygments_lexer": "ipython3",
   "version": "3.8.6"
  }
 },
 "nbformat": 4,
 "nbformat_minor": 5
}
